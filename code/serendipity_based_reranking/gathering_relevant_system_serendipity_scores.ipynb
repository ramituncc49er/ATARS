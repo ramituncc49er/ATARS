{
 "cells": [
  {
   "cell_type": "code",
   "execution_count": 15,
   "id": "78ed0cb4",
   "metadata": {},
   "outputs": [],
   "source": [
    "import pandas as pd\n",
    "\n",
    "file1_path = \"/Users/innerpiece92/Desktop/NLP_Workspace/AArec/datasets/serendipity_scoring/restaurants/system_rag_serendipity_scores.xlsx\"\n",
    "file2_path = \"/Users/innerpiece92/Desktop/NLP_Workspace/AArec/datasets/ranking_items/restaurants/query5_american.xlsx\"\n",
    "df1 = pd.read_excel(file1_path, sheet_name='Sheet1')\n",
    "df2 = pd.read_excel(file2_path, sheet_name='Sheet1')\n",
    "\n",
    "# Perform a left join to enrich File 2 with serendipity values from File 1\n",
    "merged_df = pd.merge(\n",
    "    df2,\n",
    "    df1[['user_profile', 'business_id', 'numeric_serendipity', 'numeric_serendipity_baseline']],\n",
    "    how='left',\n",
    "    on=['user_profile', 'business_id'],\n",
    "    suffixes=('', '_system')\n",
    ")\n",
    "\n",
    "merged_df.rename(columns={\n",
    "    'numeric_serendipity_system': 'system_numeric_serendipity',\n",
    "    'numeric_serendipity_baseline_system': 'system_numeric_serendipity_baseline'\n",
    "}, inplace=True)\n",
    "\n",
    "merged_df.to_excel(\"/Users/innerpiece92/Desktop/NLP_Workspace/AArec/datasets/ranking_items/restaurants/system_rag_query5_american.xlsx\", index=False)\n"
   ]
  }
 ],
 "metadata": {
  "kernelspec": {
   "display_name": "Python 3 (ipykernel)",
   "language": "python",
   "name": "python3"
  },
  "language_info": {
   "codemirror_mode": {
    "name": "ipython",
    "version": 3
   },
   "file_extension": ".py",
   "mimetype": "text/x-python",
   "name": "python",
   "nbconvert_exporter": "python",
   "pygments_lexer": "ipython3",
   "version": "3.11.5"
  }
 },
 "nbformat": 4,
 "nbformat_minor": 5
}
