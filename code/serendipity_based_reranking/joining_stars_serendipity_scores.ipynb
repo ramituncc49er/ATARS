{
 "cells": [
  {
   "cell_type": "code",
   "execution_count": null,
   "id": "81791e0e",
   "metadata": {},
   "outputs": [],
   "source": [
    "import pandas as pd\n",
    "\n",
    "file1_path = \"/Users/innerpiece92/Desktop/NLP_Workspace/AArec/datasets/serendipity_scoring/restaurants/ground_truth_serendipity_scores.xlsx\"\n",
    "file2_path = \"/Users/innerpiece92/Desktop/NLP_Workspace/AArec/datasets/ranking_items/restaurants/item_details.xlsx\"\n",
    "\n",
    "df1 = pd.read_excel(file1_path)\n",
    "df2 = pd.read_excel(file2_path)\n",
    "\n",
    "# Merge df1 with the stars and categories from df2 based on business_id\n",
    "merged_df = pd.merge(df1, df2[['business_id', 'stars', 'categories']], on='business_id', how='left')\n",
    "\n",
    "output_path = \"/Users/innerpiece92/Desktop/NLP_Workspace/AArec/datasets/ranking_items/restaurants/star_serendipity_scores.xlsx\"\n",
    "merged_df.to_excel(output_path, index=False)\n",
    "\n",
    "print(f\"Merged file saved to: {output_path}\")"
   ]
  }
 ],
 "metadata": {
  "kernelspec": {
   "display_name": "Python 3 (ipykernel)",
   "language": "python",
   "name": "python3"
  },
  "language_info": {
   "codemirror_mode": {
    "name": "ipython",
    "version": 3
   },
   "file_extension": ".py",
   "mimetype": "text/x-python",
   "name": "python",
   "nbconvert_exporter": "python",
   "pygments_lexer": "ipython3",
   "version": "3.11.5"
  }
 },
 "nbformat": 4,
 "nbformat_minor": 5
}
