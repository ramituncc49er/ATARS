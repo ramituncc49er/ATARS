{
 "cells": [
  {
   "cell_type": "code",
   "execution_count": 1,
   "id": "926b554a",
   "metadata": {},
   "outputs": [],
   "source": [
    "import os\n",
    "import json\n",
    "import pandas as pd"
   ]
  },
  {
   "cell_type": "code",
   "execution_count": 4,
   "id": "72466ab9",
   "metadata": {},
   "outputs": [],
   "source": [
    "file_path = \"/Users/innerpiece92/Desktop/NLP_Workspace/AArec/datasets/ranking_items/restaurants/ground_truth_w_split_abstractive_rag.xlsx\"\n",
    "df = pd.read_excel(file_path)\n",
    "\n",
    "# Extract unique business_id and name pairs\n",
    "business_map = dict(df[['business_id', 'name']].drop_duplicates().values)\n",
    "yelp_json_path = \"/Users/innerpiece92/Desktop/NLP_Workspace/extrAtA/yelp_dataset/yelp_academic_dataset_business.json\"\n",
    "\n",
    "results = []\n",
    "\n",
    "# Since we cannot run grep in this environment, prepare the loop to simulate grep\n",
    "for business_id, name in business_map.items():\n",
    "    try:\n",
    "        cmd = f\"grep '\\\"{business_id}\\\"' {yelp_json_path}\"\n",
    "        result = os.popen(cmd).read().strip()\n",
    "\n",
    "        if result:\n",
    "            data = json.loads(result)\n",
    "            stars = data.get('stars', None)\n",
    "            categories = data.get('categories', None)\n",
    "\n",
    "            results.append({\n",
    "                \"business_id\": business_id,\n",
    "                \"name\": name,\n",
    "                \"stars\": stars,\n",
    "                \"categories\": categories\n",
    "            })\n",
    "    except json.JSONDecodeError:\n",
    "        print(f\"JSON parsing failed for business_id: {business_id}\")\n",
    "\n",
    "output_df = pd.DataFrame(results)\n",
    "output_excel_path = \"/Users/innerpiece92/Desktop/NLP_Workspace/AArec/datasets/ranking_items/restaurants/item_details.xlsx\"\n",
    "output_df.to_excel(output_excel_path, index=False)"
   ]
  }
 ],
 "metadata": {
  "kernelspec": {
   "display_name": "Python 3 (ipykernel)",
   "language": "python",
   "name": "python3"
  },
  "language_info": {
   "codemirror_mode": {
    "name": "ipython",
    "version": 3
   },
   "file_extension": ".py",
   "mimetype": "text/x-python",
   "name": "python",
   "nbconvert_exporter": "python",
   "pygments_lexer": "ipython3",
   "version": "3.11.5"
  }
 },
 "nbformat": 4,
 "nbformat_minor": 5
}
