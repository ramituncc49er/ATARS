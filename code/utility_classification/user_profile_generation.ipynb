{
 "cells": [
  {
   "cell_type": "code",
   "execution_count": null,
   "id": "a8b4aa60",
   "metadata": {},
   "outputs": [],
   "source": [
    "import pandas as pd\n",
    "import numpy as np\n",
    "import random\n",
    "import os\n",
    "import openai"
   ]
  },
  {
   "cell_type": "markdown",
   "id": "5781a4d1",
   "metadata": {},
   "source": [
    "#### GPT-4 configuration"
   ]
  },
  {
   "cell_type": "code",
   "execution_count": null,
   "id": "993f0392",
   "metadata": {},
   "outputs": [],
   "source": [
    "azure_endpoint = \"https://rumi-gpt4.openai.azure.com/\"\n",
    "api_key = \"\"\n",
    "api_version = \"2024-02-15-preview\"\n",
    "openai.api_type = \"azure\"\n",
    "openai.api_base = azure_endpoint\n",
    "openai.api_key = api_key\n",
    "openai.api_version = api_version"
   ]
  },
  {
   "cell_type": "markdown",
   "id": "7066f256",
   "metadata": {},
   "source": [
    "### Load Prompt"
   ]
  },
  {
   "cell_type": "code",
   "execution_count": null,
   "id": "9079ea4b",
   "metadata": {},
   "outputs": [],
   "source": [
    "def load_prompt_fs():\n",
    "    \"\"\"\n",
    "    Reads and formats the prompt template with the few-shot examples.\n",
    "    \"\"\"\n",
    "    with open('/Users/innerpiece92/Desktop/NLP_Workspace/AArec/prompt/generating/prompt_for_generating_user_profiles_fs.txt', 'r') as file:\n",
    "        prompt = file.read()\n",
    "        \n",
    "        with open('/Users/innerpiece92/Desktop/NLP_Workspace/AArec/prompt/generating/few_shot_for_generating_user_profiles.txt', 'r') as fewshot_file:\n",
    "            few_shot_examples = fewshot_file.read()\n",
    "        \n",
    "    return prompt.format(few_shot_examples=few_shot_examples)\n",
    "\n",
    "def load_prompt_params(sampled_AtA):\n",
    "    \n",
    "    \"\"\"\n",
    "    Constructs the query-specific string for the prompt.\n",
    "    \"\"\"\n",
    "    prompt_params = f\"\"\"\n",
    "    \n",
    "    {<sampled_AtA>}' \n",
    "\n",
    "    \"\"\"\n",
    "    return prompt_params"
   ]
  },
  {
   "cell_type": "code",
   "execution_count": null,
   "id": "4ee369f1",
   "metadata": {},
   "outputs": [],
   "source": [
    "def generateCreativeBio(prompt, prompt_params):\n",
    "    messages = [\n",
    "        {\"role\": \"system\", \"content\": \"You are a helpful AI assistant\"},\n",
    "        {\"role\": \"user\", \"content\": prompt},\n",
    "        {\"role\": \"user\", \"content\": prompt_params}\n",
    "    ]\n",
    "\n",
    "    formatted_messages = \"\\n\".join([f\"{message['role']}: {message['content']}\" for message in messages])\n",
    "    print(\"Messages being sent to GPT:\\n\", formatted_messages)\n",
    "\n",
    "    response = openai.ChatCompletion.create(\n",
    "        messages=messages,\n",
    "        engine=\"gpt-4\",\n",
    "        temperature=0,\n",
    "        frequency_penalty=0,\n",
    "        presence_penalty=0,\n",
    "        max_tokens=100\n",
    "    )\n",
    "    result_content = response['choices'][0]['message']['content']\n",
    "    return result_content"
   ]
  },
  {
   "cell_type": "markdown",
   "id": "d2d5c0c2",
   "metadata": {},
   "source": [
    "### Data Extraction"
   ]
  },
  {
   "cell_type": "code",
   "execution_count": null,
   "id": "ab5a5aa0",
   "metadata": {},
   "outputs": [],
   "source": [
    "def data_extraction(df):\n",
    "\n",
    "    review = [x for x in df['review'] if not pd.isna(x)]\n",
    "    true_strong = [x for x in df['true_strong'] if not pd.isna(x)]\n",
    "    true_weak = [x for x in df['true_weak'] if not pd.isna(x)]\n",
    "    true_other = [x for x in df['true_other'] if not pd.isna(x)]\n",
    "    true_strong_weak = [x for x in df['true_strong_weak'] if not pd.isna(x)]\n",
    "    abs_true_strong = [x for x in df['abs_true_strong'] if not pd.isna(x)]\n",
    "    abs_true_weak = [x for x in df['abs_true_weak'] if not pd.isna(x)]\n",
    "    abs_true_other = [x for x in df['abs_true_other'] if not pd.isna(x)]\n",
    "    abs_true_strong_weak = [x for x in df['abs_true_strong_weak'] if not pd.isna(x)]\n",
    "    \n",
    "\n",
    "    return {\n",
    "        'review': review,\n",
    "        'true_strong': true_strong,\n",
    "        'true_weak': true_weak,\n",
    "        'true_other': true_other,\n",
    "        'true_strong_weak': true_strong_weak,\n",
    "        'abs_true_strong': abs_true_strong,\n",
    "        'abs_true_weak': abs_true_weak,\n",
    "        'abs_true_other': abs_true_other,\n",
    "        'abs_true_strong_weak': abs_true_strong_weak\n",
    "    }\n"
   ]
  },
  {
   "cell_type": "markdown",
   "id": "616a9ec1",
   "metadata": {},
   "source": [
    "### Atypical Aspects Sampling"
   ]
  },
  {
   "cell_type": "code",
   "execution_count": null,
   "id": "c5a0bfd2",
   "metadata": {},
   "outputs": [],
   "source": [
    "def sampling_atypical_aspects(atypical_aspects):\n",
    "    \"\"\"\n",
    "    Select 1 to 5 atypical aspects according to distribution p(1) = 0.1, p(2) = 0.3, p(3) = 0.3, p(4) = 0.2, p(5) = 0.1.\n",
    "    \"\"\"\n",
    "    \n",
    "    numbers = [1, 2, 3, 4, 5]\n",
    "    probabilities = [0.1, 0.3, 0.3, 0.2, 0.1]\n",
    "    \n",
    "    sampling_number = np.random.choice(numbers, p = probabilities)\n",
    "    \n",
    "    sampled_atypical_aspects = np.random.choice(atypical_aspects, size=sampling_number, replace=False).tolist()\n",
    "    \n",
    "    return sampled_atypical_aspects\n"
   ]
  },
  {
   "cell_type": "markdown",
   "id": "a73a1118",
   "metadata": {},
   "source": [
    "### Atypical Aspects from 'dev' dataset"
   ]
  },
  {
   "cell_type": "code",
   "execution_count": null,
   "id": "f85e9c96",
   "metadata": {},
   "outputs": [],
   "source": [
    "restaurants_dev_df = pd.read_excel('/Users/innerpiece92/Desktop/NLP_Workspace/AARec/code/restaurants/dev.xlsx', engine='openpyxl')\n",
    "restaurants_dev_data = data_extraction(restaurants_dev_df)\n",
    "restaurants_AtA = restaurants_dev_data['true_strong_weak']\n",
    "restaurants_AtA = [item.strip() for sublist in restaurants_AtA for item in sublist.split(', ')]"
   ]
  },
  {
   "cell_type": "code",
   "execution_count": null,
   "id": "db494909",
   "metadata": {},
   "outputs": [],
   "source": [
    "hotels_dev_df = pd.read_excel('/Users/innerpiece92/Desktop/NLP_Workspace/AARec/code/hotels/dev.xlsx', engine='openpyxl')\n",
    "hotels_dev_data = data_extraction(hotels_dev_df)\n",
    "hotels_AtA = hotels_dev_data['true_strong_weak']\n",
    "hotels_AtA = [item.strip() for sublist in hotels_AtA for item in sublist.split(', ')]"
   ]
  },
  {
   "cell_type": "code",
   "execution_count": null,
   "id": "5ee6ec80",
   "metadata": {},
   "outputs": [],
   "source": [
    "hairsalons_dev_df = pd.read_excel('/Users/innerpiece92/Desktop/NLP_Workspace/AARec/code/hair_salons/dev.xlsx', engine='openpyxl')\n",
    "hairsalons_dev_data = data_extraction(hairsalons_dev_df)\n",
    "hairsalons_AtA = hairsalons_dev_data['true_strong_weak']\n",
    "hairsalons_AtA = [item.strip() for sublist in hairsalons_AtA for item in sublist.split(', ')]"
   ]
  },
  {
   "cell_type": "markdown",
   "id": "c8c1e4d6",
   "metadata": {},
   "source": [
    "### Atypical Aspects 'train-test' dataset"
   ]
  },
  {
   "cell_type": "code",
   "execution_count": null,
   "id": "f5aac73a",
   "metadata": {},
   "outputs": [],
   "source": [
    "restaurants_traintest_df = pd.read_excel('/Users/innerpiece92/Desktop/NLP_Workspace/AARec/code/restaurants/train_test.xlsx', engine='openpyxl')\n",
    "restaurants_traintest_data = data_extraction(restaurants_traintest_df)\n",
    "restaurants_traintest_AtA = restaurants_traintest_data['true_strong_weak']\n",
    "restaurants_traintest_AtA = [item.strip() for sublist in restaurants_traintest_AtA for item in sublist.split(', ')]"
   ]
  },
  {
   "cell_type": "code",
   "execution_count": null,
   "id": "39621b87",
   "metadata": {},
   "outputs": [],
   "source": [
    "hotels_traintest_df = pd.read_excel('/Users/innerpiece92/Desktop/NLP_Workspace/AARec/code/hotels/train_test.xlsx', engine='openpyxl')\n",
    "hotels_traintest_data = data_extraction(hotels_traintest_df)\n",
    "hotels_traintest_AtA = hotels_traintest_data['true_strong_weak']\n",
    "hotels_traintest_AtA = [item.strip() for sublist in hotels_traintest_AtA for item in sublist.split(', ')]"
   ]
  },
  {
   "cell_type": "code",
   "execution_count": null,
   "id": "96f7018d",
   "metadata": {},
   "outputs": [],
   "source": [
    "hairsalons_traintest_df = pd.read_excel('/Users/innerpiece92/Desktop/NLP_Workspace/AARec/code/hair_salons/train_test.xlsx', engine='openpyxl')\n",
    "hairsalons_traintest_data = data_extraction(hairsalons_traintest_df)\n",
    "hairsalons_traintest_AtA = hairsalons_traintest_data['true_strong_weak']\n",
    "hairsalons_traintest_AtA = [item.strip() for sublist in hairsalons_traintest_AtA for item in sublist.split(', ')]"
   ]
  },
  {
   "cell_type": "markdown",
   "id": "3972f874",
   "metadata": {},
   "source": [
    "### Inference"
   ]
  },
  {
   "cell_type": "code",
   "execution_count": null,
   "id": "4d756c5a",
   "metadata": {},
   "outputs": [],
   "source": [
    "sampled_AtA = sampling_atypical_aspects(hairsalons_traintest_AtA)\n",
    "generateCreativeBio(sampled_AtA)"
   ]
  }
 ],
 "metadata": {
  "kernelspec": {
   "display_name": "Python 3 (ipykernel)",
   "language": "python",
   "name": "python3"
  },
  "language_info": {
   "codemirror_mode": {
    "name": "ipython",
    "version": 3
   },
   "file_extension": ".py",
   "mimetype": "text/x-python",
   "name": "python",
   "nbconvert_exporter": "python",
   "pygments_lexer": "ipython3",
   "version": "3.11.5"
  }
 },
 "nbformat": 4,
 "nbformat_minor": 5
}
