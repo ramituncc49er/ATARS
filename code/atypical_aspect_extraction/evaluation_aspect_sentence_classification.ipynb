{
 "cells": [
  {
   "cell_type": "code",
   "execution_count": null,
   "id": "6413d5e5",
   "metadata": {},
   "outputs": [],
   "source": [
    "import pandas as pd\n",
    "import matplotlib.pyplot as plt\n",
    "import seaborn as sns\n",
    "from sklearn.metrics import confusion_matrix, classification_report"
   ]
  },
  {
   "cell_type": "code",
   "execution_count": null,
   "id": "bad9c5b9",
   "metadata": {},
   "outputs": [],
   "source": [
    "def evaluate_and_save_results(manual_file_path, system_file_path, output_file):\n",
    "    \"\"\"\n",
    "    Evaluate classification performance and save confusion matrix and classification report to an Excel file.\n",
    "    \n",
    "    Args:\n",
    "        manual_file_path (str): Path to the Excel file containing manual labels.\n",
    "        system_file_path (str): Path to the Excel file containing system labels.\n",
    "        output_file (str): Path to the output Excel file where results will be saved.\n",
    "        \n",
    "    Returns:\n",
    "        None\n",
    "    \"\"\"\n",
    "    manual_data = pd.read_excel(manual_file_path)\n",
    "    system_data = pd.read_excel(system_file_path)\n",
    "    manual_labels = manual_data['manual_ata_classification']\n",
    "    system_labels = system_data['system_ata_classification']\n",
    "\n",
    "    labels = sorted(set(manual_labels), key=lambda x: ('pos' not in x, x))\n",
    "    \n",
    "    cm = confusion_matrix(manual_labels, system_labels, labels=labels)\n",
    "    \n",
    "    cm_df = pd.DataFrame(cm, index=labels, columns=labels)\n",
    "    \n",
    "    # Classification report\n",
    "    report = classification_report(manual_labels, system_labels, target_names=labels, output_dict=True)\n",
    "    report_df = pd.DataFrame(report).transpose()\n",
    "\n",
    "    print(\"Classification Report:\")\n",
    "    print(classification_report(manual_labels, system_labels, target_names=labels))\n",
    "\n",
    "    plt.figure(figsize=(8, 6))\n",
    "    sns.heatmap(cm_df, annot=True, fmt='d', cmap='Blues', cbar=False)\n",
    "    plt.title('Confusion Matrix')\n",
    "    plt.xlabel('Predicted Labels')\n",
    "    plt.ylabel('True Labels')\n",
    "    plt.show()\n",
    "\n",
    "    with pd.ExcelWriter(output_file, engine='openpyxl', mode='w') as writer:\n",
    "        report_df.to_excel(writer, sheet_name='Classification Report')\n",
    "        cm_df.to_excel(writer, sheet_name='Confusion Matrix')\n",
    "\n",
    "    print(f\"Confusion matrix and classification report saved to {output_file}\")"
   ]
  },
  {
   "cell_type": "code",
   "execution_count": null,
   "id": "1d3f4896",
   "metadata": {},
   "outputs": [],
   "source": [
    "# File paths\n",
    "manual_file = \"/Users/innerpiece92/Desktop/NLP_Workspace/AArec/datasets/extracting_atypical_aspects_of_items_from_reviews/hair_salons/test/rcb_using_decomposed_review_classification_v2_primary/hair_salon_reviews_split_ata_classified.xlsx\"\n",
    "system_file = \"/Users/innerpiece92/Desktop/NLP_Workspace/AArec/datasets/extracting_atypical_aspects_of_items_from_reviews/hair_salons/test/rcb_using_decomposed_review_classification_v2_primary/system_abstractive_ata_hairsalons_reviews_rag.xlsx\"\n",
    "output_file = \"/Users/innerpiece92/Desktop/NLP_Workspace/AArec/datasets/extracting_atypical_aspects_of_items_from_reviews/hair_salons/test/rcb_using_decomposed_review_classification_v2_primary/abstractive_match_evaluation_metrics_rag.xlsx\"\n",
    "\n",
    "# Run the evaluation\n",
    "evaluate_and_save_results(manual_file, system_file, output_file)"
   ]
  }
 ],
 "metadata": {
  "kernelspec": {
   "display_name": "Python 3 (ipykernel)",
   "language": "python",
   "name": "python3"
  },
  "language_info": {
   "codemirror_mode": {
    "name": "ipython",
    "version": 3
   },
   "file_extension": ".py",
   "mimetype": "text/x-python",
   "name": "python",
   "nbconvert_exporter": "python",
   "pygments_lexer": "ipython3",
   "version": "3.11.5"
  }
 },
 "nbformat": 4,
 "nbformat_minor": 5
}
