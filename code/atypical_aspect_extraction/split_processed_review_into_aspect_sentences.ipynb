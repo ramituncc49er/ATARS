{
 "cells": [
  {
   "cell_type": "code",
   "execution_count": null,
   "id": "51b1b745",
   "metadata": {},
   "outputs": [],
   "source": [
    "import pandas as pd"
   ]
  },
  {
   "cell_type": "code",
   "execution_count": null,
   "id": "4ac8e4a4",
   "metadata": {},
   "outputs": [],
   "source": [
    "def split_column_sentences(input_file, output_file, column_name, new_column_name):\n",
    "    \"\"\"\n",
    "    Splits sentences in the specified column based on periods (.) and adds the split sentences \n",
    "    in a new column, creating new rows for each sentence.\n",
    "    \n",
    "    Args:\n",
    "        input_file (str): Path to the input Excel file.\n",
    "        output_file (str): Path to save the transformed Excel file.\n",
    "        column_name (str): The name of the column to split sentences.\n",
    "        new_column_name (str): The name of the new column for split sentences.\n",
    "        \n",
    "    Returns:\n",
    "        None\n",
    "    \"\"\"\n",
    "    df = pd.read_excel(input_file)\n",
    "    processed_rows = []\n",
    "    \n",
    "    for _, row in df.iterrows():\n",
    "        text = row[column_name]\n",
    "        \n",
    "        if isinstance(text, str):  # Check if the text is valid\n",
    "            sentences = [sentence.strip() for sentence in text.split('.') if sentence.strip()]\n",
    "        else:\n",
    "            sentences = [text]\n",
    "        \n",
    "        # Create a new row for each sentence, retaining other column data\n",
    "        for sentence in sentences:\n",
    "            new_row = row.copy()\n",
    "            new_row[new_column_name] = sentence\n",
    "            processed_rows.append(new_row)\n",
    "    \n",
    "    new_df = pd.DataFrame(processed_rows)\n",
    "    \n",
    "    new_df.to_excel(output_file, index=False)\n",
    "    print(f\"Transformed data saved to {output_file}\")"
   ]
  },
  {
   "cell_type": "code",
   "execution_count": null,
   "id": "e745e1e5",
   "metadata": {},
   "outputs": [],
   "source": [
    "input_excel = \"/Users/innerpiece92/Desktop/NLP_Workspace/AArec/datasets/extracting_atypical_aspects_of_items_from_reviews/restaurants/test/rcb_using_decomposed_review_classification_v3/restaurant_reviews_F.xlsx\"\n",
    "output_excel = \"/Users/innerpiece92/Desktop/NLP_Workspace/AArec/datasets/extracting_atypical_aspects_of_items_from_reviews/restaurants/test/rcb_using_decomposed_review_classification_v3/restaurant_reviews_split.xlsx\"\n",
    "column_to_split = \"decomposed_review\"\n",
    "new_column = \"split_decomposed_review\"\n",
    "\n",
    "split_column_sentences(input_excel, output_excel, column_to_split, new_column)"
   ]
  }
