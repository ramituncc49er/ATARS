{
 "cells": [
  {
   "cell_type": "markdown",
   "id": "ff92041b",
   "metadata": {},
   "source": [
    "### Splitting files where 3 annotators worked"
   ]
  },
  {
   "cell_type": "code",
   "execution_count": null,
   "id": "9d51d013",
   "metadata": {},
   "outputs": [],
   "source": [
    "import pandas as pd"
   ]
  },
  {
   "cell_type": "code",
   "execution_count": null,
   "id": "a1bc78b8",
   "metadata": {},
   "outputs": [],
   "source": [
    "file_path = \"/Users/innerpiece92/Desktop/NLP_Workspace/AArec/mturk/mturk-marketplace-ready/test/results/hair_salons/5291818_3_ITA.xlsx\" \n",
    "data = pd.read_excel(file_path, sheet_name='Worksheet')  # Adjust sheet name if necessary\n",
    "\n",
    "# Create a unique key for each row\n",
    "data['UniqueKey'] = data['HITId'] + '_' + data['RequesterAnnotation']\n",
    "\n",
    "file_1_rows = data.iloc[::3]  # Rows with indices 0, 3, 6, ...\n",
    "file_2_rows = data.iloc[1::3]  # Rows with indices 1, 4, 7, ...\n",
    "file_3_rows = data.iloc[2::3]  # Rows with indices 2, 5, 8, ...\n",
    "\n",
    "file_1_path = \"/Users/innerpiece92/Desktop/NLP_Workspace/AArec/mturk/mturk-marketplace-ready/test/results_evaluation/hair_salons/Worker_1.xlsx\"\n",
    "file_2_path = \"/Users/innerpiece92/Desktop/NLP_Workspace/AArec/mturk/mturk-marketplace-ready/test/results_evaluation/hair_salons/Worker_2.xlsx\"\n",
    "file_3_path = \"/Users/innerpiece92/Desktop/NLP_Workspace/AArec/mturk/mturk-marketplace-ready/test/results_evaluation/hair_salons/Worker_3.xlsx\"\n",
    "\n",
    "file_1_rows.to_excel(file_1_path, index=False, sheet_name='File 1')\n",
    "file_2_rows.to_excel(file_2_path, index=False, sheet_name='File 2')\n",
    "file_3_rows.to_excel(file_3_path, index=False, sheet_name='File 3')\n",
    "\n",
    "print(\"Files created:\")\n",
    "print(file_1_path)\n",
    "print(file_2_path)\n",
    "print(file_3_path)"
   ]
  },
  {
   "cell_type": "raw",
   "id": "1a1862fb",
   "metadata": {},
   "source": [
    "### Splitting files where 2 annotators worked"
   ]
  },
  {
   "cell_type": "raw",
   "id": "a22648f2",
   "metadata": {},
   "source": [
    "file_path = \"/Users/innerpiece92/Desktop/NLP_Workspace/AArec/mturk/mturk-marketplace-ready/test/results/batch3/download1_jan21_11-15pm/Batch_5287947_batch_results_2_ITA.xlsx\"\n",
    "data = pd.read_excel(file_path, sheet_name='Worksheet')  # Adjust sheet name if necessary\n",
    "\n",
    "data['UniqueKey'] = data['HITId'] + '_' + data['RequesterAnnotation']\n",
    "\n",
    "file_1_rows = data.iloc[::2]  # Rows with indices 0, 2, 4, ...\n",
    "file_2_rows = data.iloc[1::2]  # Rows with indices 1, 3, 5, ...\n",
    "\n",
    "file_1_path = \"/Users/innerpiece92/Desktop/NLP_Workspace/AArec/mturk/mturk-marketplace-ready/test/results_evaluation/batch3/download1_jan21_11-15pm/Batch_5287947_batch_results_2_ITA/Worker_1.xlsx\"\n",
    "file_2_path = \"/Users/innerpiece92/Desktop/NLP_Workspace/AArec/mturk/mturk-marketplace-ready/test/results_evaluation/batch3/download1_jan21_11-15pm/Batch_5287947_batch_results_2_ITA/Worker_2.xlsx\"\n",
    "\n",
    "file_1_rows.to_excel(file_1_path, index=False, sheet_name='File 1')\n",
    "file_2_rows.to_excel(file_2_path, index=False, sheet_name='File 2')\n",
    "\n",
    "print(\"Files created:\")\n",
    "print(file_1_path)\n",
    "print(file_2_path)"
   ]
  }
 ],
 "metadata": {
  "kernelspec": {
   "display_name": "Python 3 (ipykernel)",
   "language": "python",
   "name": "python3"
  },
  "language_info": {
   "codemirror_mode": {
    "name": "ipython",
    "version": 3
   },
   "file_extension": ".py",
   "mimetype": "text/x-python",
   "name": "python",
   "nbconvert_exporter": "python",
   "pygments_lexer": "ipython3",
   "version": "3.11.5"
  }
 },
 "nbformat": 4,
 "nbformat_minor": 5
}
