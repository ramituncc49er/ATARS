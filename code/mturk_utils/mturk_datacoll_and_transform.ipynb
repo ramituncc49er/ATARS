{
 "cells": [
  {
   "cell_type": "code",
   "execution_count": null,
   "id": "dc0f5ac6",
   "metadata": {},
   "outputs": [],
   "source": [
    "import pandas as pd"
   ]
  },
  {
   "cell_type": "code",
   "execution_count": 12,
   "id": "8952b80d",
   "metadata": {},
   "outputs": [
    {
     "name": "stdout",
     "output_type": "stream",
     "text": [
      "Transformed file saved to /Users/innerpiece92/Desktop/NLP_Workspace/AArec/mturk/mturk-marketplace-ready/test/results_evaluation/hair_salons/Worker_3_filtered_results_F.xlsx\n"
     ]
    }
   ],
   "source": [
    "def transform_file(input_file, output_file):\n",
    "    \n",
    "    data = pd.read_excel(input_file)\n",
    "    transformed_rows = []\n",
    "\n",
    "    for idx, row in data.iterrows():\n",
    "        max_aspects = int(row['Input.maxAspects'])  # Number of aspects to process for this row\n",
    "        transformed_row = {\n",
    "            'WorkerId': row['WorkerId'],\n",
    "            'Input.profile': row['Input.profile'],\n",
    "            'Input.businessId': row['Input.businessId'],\n",
    "            'Input.maxAspects': row['Input.maxAspects'],\n",
    "        }\n",
    "        \n",
    "        # Add dynamic fields based on `max_aspects`\n",
    "        for i in range(1, max_aspects + 1):\n",
    "            transformed_row[f'Input.review{i}'] = row.get(f'Input.review{i}', None)\n",
    "            transformed_row[f'Input.aspect{i}'] = row.get(f'Input.aspect{i}', None)\n",
    "            transformed_row[f'Answer.utilityValue{i}.High'] = row.get(f'Answer.utilityValue{i}.High', None)\n",
    "            transformed_row[f'Answer.utilityValue{i}.Low'] = row.get(f'Answer.utilityValue{i}.Low', None)\n",
    "            transformed_row[f'Answer.utilityValue{i}.Medium'] = row.get(f'Answer.utilityValue{i}.Medium', None)\n",
    "            transformed_row[f'Answer.utilityValue{i}.None'] = row.get(f'Answer.utilityValue{i}.None', None)\n",
    "        \n",
    "        transformed_rows.append(transformed_row)\n",
    "\n",
    "    transformed_df = pd.DataFrame(transformed_rows)\n",
    "    transformed_df.to_excel(output_file, index=False)\n",
    "    print(f\"Transformed file saved to {output_file}\")\n",
    "\n",
    "input_file_path = \"/Users/innerpiece92/Desktop/NLP_Workspace/AArec/mturk/mturk-marketplace-ready/test/results_evaluation/hair_salons/Worker_3.xlsx\"\n",
    "output_file_path = \"/Users/innerpiece92/Desktop/NLP_Workspace/AArec/mturk/mturk-marketplace-ready/test/results_evaluation/hair_salons/Worker_3_filtered_results_F.xlsx\"\n",
    "\n",
    "transform_file(input_file_path, output_file_path)"
   ]
  },
  {
   "cell_type": "code",
   "execution_count": 13,
   "id": "43935a71",
   "metadata": {},
   "outputs": [
    {
     "name": "stdout",
     "output_type": "stream",
     "text": [
      "Transformed file saved to /Users/innerpiece92/Desktop/NLP_Workspace/AArec/mturk/mturk-marketplace-ready/test/results_evaluation/hair_salons/Worker_3_batch_matching_ready_results_F.xlsx\n"
     ]
    }
   ],
   "source": [
    "def transform_input_to_output(input_df):\n",
    "\n",
    "    transformed_rows = []\n",
    "\n",
    "    for _, row in input_df.iterrows():\n",
    "        workerid = row['WorkerId']\n",
    "        profile = row['Input.profile']\n",
    "        business_id = row['Input.businessId']\n",
    "        max_aspects = int(row['Input.maxAspects'])\n",
    "\n",
    "        for i in range(1, max_aspects + 1):  # Iterate only up to `Input.maxAspects`\n",
    "            # Dynamically construct column names\n",
    "            review_col = f'Input.review{i}'\n",
    "            aspect_col = f'Input.aspect{i}'\n",
    "            high_col = f'Answer.utilityValue{i}.High'\n",
    "            low_col = f'Answer.utilityValue{i}.Low'\n",
    "            medium_col = f'Answer.utilityValue{i}.Medium'\n",
    "            none_col = f'Answer.utilityValue{i}.None'\n",
    "\n",
    "            # Check if the required columns exist in the DataFrame\n",
    "            if review_col in row and aspect_col in row:\n",
    "                if pd.notna(row[review_col]) and pd.notna(row[aspect_col]):\n",
    "                    # Determine the utility value based on the boolean columns\n",
    "                    utility_value = None\n",
    "                    if high_col in row and row[high_col]:\n",
    "                        utility_value = 'High'\n",
    "                    elif medium_col in row and row[medium_col]:\n",
    "                        utility_value = 'Medium'\n",
    "                    elif low_col in row and row[low_col]:\n",
    "                        utility_value = 'Low'\n",
    "                    elif none_col in row and row[none_col]:\n",
    "                        utility_value = 'None'\n",
    "\n",
    "                    if utility_value:  # Add the row only if a utility value is determined\n",
    "                        transformed_rows.append({\n",
    "                            'WorkerId': workerid,\n",
    "                            'Input.profile': profile,\n",
    "                            'Input.businessId': business_id,\n",
    "                            'Input.maxAspects': max_aspects,\n",
    "                            'Input.review': row[review_col],\n",
    "                            'Input.aspect': row[aspect_col],\n",
    "                            'Answer.utilityValue': utility_value\n",
    "                        })\n",
    "\n",
    "    transformed_df = pd.DataFrame(transformed_rows)\n",
    "    return transformed_df\n",
    "\n",
    "input_file_path = \"/Users/innerpiece92/Desktop/NLP_Workspace/AArec/mturk/mturk-marketplace-ready/test/results_evaluation/hair_salons/Worker_3_filtered_results_F.xlsx\"\n",
    "output_file_path = \"/Users/innerpiece92/Desktop/NLP_Workspace/AArec/mturk/mturk-marketplace-ready/test/results_evaluation/hair_salons/Worker_3_batch_matching_ready_results_F.xlsx\"\n",
    "\n",
    "input2_df = pd.read_excel(input_file_path)\n",
    "output2_df = transform_input_to_output(input2_df)\n",
    "output2_df.to_excel(output_file_path, index=False)\n",
    "print(f\"Transformed file saved to {output_file_path}\")"
   ]
  }
 ],
 "metadata": {
  "kernelspec": {
   "display_name": "Python 3 (ipykernel)",
   "language": "python",
   "name": "python3"
  },
  "language_info": {
   "codemirror_mode": {
    "name": "ipython",
    "version": 3
   },
   "file_extension": ".py",
   "mimetype": "text/x-python",
   "name": "python",
   "nbconvert_exporter": "python",
   "pygments_lexer": "ipython3",
   "version": "3.11.5"
  }
 },
 "nbformat": 4,
 "nbformat_minor": 5
}
